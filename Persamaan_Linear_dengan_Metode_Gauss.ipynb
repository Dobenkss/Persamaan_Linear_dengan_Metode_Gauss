{
  "nbformat": 4,
  "nbformat_minor": 0,
  "metadata": {
    "colab": {
      "provenance": [],
      "authorship_tag": "ABX9TyNvhruHNLyAPqefT0dvNG1C",
      "include_colab_link": true
    },
    "kernelspec": {
      "name": "python3",
      "display_name": "Python 3"
    },
    "language_info": {
      "name": "python"
    }
  },
  "cells": [
    {
      "cell_type": "markdown",
      "metadata": {
        "id": "view-in-github",
        "colab_type": "text"
      },
      "source": [
        "<a href=\"https://colab.research.google.com/github/Dobenkss/Persamaan_Linear_dengan_Metode_Gauss/blob/main/Persamaan_Linear_dengan_Metode_Gauss.ipynb\" target=\"_parent\"><img src=\"https://colab.research.google.com/assets/colab-badge.svg\" alt=\"Open In Colab\"/></a>"
      ]
    },
    {
      "cell_type": "markdown",
      "source": [
        "Nama : Abhipraya Rasendriya Atma Ardany</br>\n",
        "NIM : 24.21.1587</br>\n",
        "Kelas : IF10</br>\n",
        "\n",
        "Link : https://colab.research.google.com/drive/1HLcfvTZuFsxf4aXnwrdui0dKwjHSguQA?usp=sharing"
      ],
      "metadata": {
        "id": "kSYU8RtxQAT3"
      }
    },
    {
      "cell_type": "markdown",
      "source": [
        "**PEMBUKTIAN SOAL 1 DAN PENGELOMPOKAN KODE PERINTAH**"
      ],
      "metadata": {
        "id": "tabzWL3YOuPP"
      }
    },
    {
      "cell_type": "code",
      "source": [
        "# Import NumPy Library\n",
        "import numpy as np\n",
        "import sys\n",
        "\n",
        "# Memasukkan ukuran matriks\n",
        "n = int(input('Masukkan ukuran matriks: '))\n",
        "\n",
        "# Making numpy array of n x n+1 size and initializing\n",
        "# to zero for storing augmented matrix\n",
        "a = np.zeros((n,n+1))\n",
        "\n",
        "# Making numpy array of n size and initializing\n",
        "# to zero for storing solution vector\n",
        "x = np.zeros(n)\n",
        "\n",
        "# Menginput matriks\n",
        "print('Tekan enter untuk memasukkan matriks dari persamaan linear:')\n",
        "for i in range(n):\n",
        "    for j in range(n+1):\n",
        "        a[i][j] = float(input( 'a['+str(i)+']['+ str(j)+']='))\n",
        "\n",
        "# Eliminasi gauss\n",
        "for i in range(n):\n",
        "    # Mencari baris dengan nilai maksimum di kolom i\n",
        "    max_row = np.argmax(np.abs(a[i:n, i])) + i\n",
        "    # Tukar baris saat nilai maksimum tidak di baris saat ini\n",
        "    if max_row != i:\n",
        "        a[[i, max_row]] = a[[max_row, i]]\n",
        "\n",
        "    if a[i][i] == 0.0:\n",
        "        sys.exit('Divide by zero detected!')\n",
        "\n",
        "    for j in range(i + 1, n):\n",
        "        ratio = a[j][i] / a[i][i]\n",
        "        for k in range(n + 1):\n",
        "            a[j][k] -= ratio * a[i][k]\n",
        "\n",
        "# Menghitung solusi\n",
        "x[n-1] = a[n-1][n]/a[n-1][n-1]\n",
        "for i in range(n-2,-1,-1):\n",
        "    x[i] = a[i][n]\n",
        "    for j in range(i+1,n):\n",
        "        x[i] = x[i] - a[i][j]*x[j]\n",
        "    x[i] = x[i]/a[i][i]\n",
        "\n",
        "# Print hasil\n",
        "print('\\nAkar dari persamaan linear diatas dengan metode Gauss, adalah : ')\n",
        "for i in range(n):\n",
        "    print('X%d = %0.2f' %(i+1,x[i]), end = '\\t')"
      ],
      "metadata": {
        "colab": {
          "base_uri": "https://localhost:8080/"
        },
        "id": "ITyLfCnjBRWg",
        "outputId": "724c5561-6041-49e7-8501-859ad0093038"
      },
      "execution_count": null,
      "outputs": [
        {
          "output_type": "stream",
          "name": "stdout",
          "text": [
            "Masukkan ukuran matriks: 3\n",
            "Tekan enter untuk memasukkan matriks dari persamaan linear:\n",
            "a[0][0]=2\n",
            "a[0][1]=3\n",
            "a[0][2]=1\n",
            "a[0][3]=17\n",
            "a[1][0]=-2\n",
            "a[1][1]=0\n",
            "a[1][2]=-3\n",
            "a[1][3]=-9\n",
            "a[2][0]=-1\n",
            "a[2][1]=2\n",
            "a[2][2]=0\n",
            "a[2][3]=6.5\n",
            "\n",
            "Akar dari persamaan linear diatas dengan metode Gauss, adalah : \n",
            "X1 = 1.50\tX2 = 4.00\tX3 = 2.00\t"
          ]
        }
      ]
    },
    {
      "cell_type": "markdown",
      "source": [
        "**PEMBUKTIAN SOAL 2 DAN PENGELOMPOKAN KODE PERINTAH**\n",
        "\n"
      ],
      "metadata": {
        "id": "PLSzcjSmOyeH"
      }
    },
    {
      "cell_type": "code",
      "source": [
        "# Import NumPy Library\n",
        "import numpy as np\n",
        "import sys\n",
        "\n",
        "# Memasukkan ukuran matriks\n",
        "n = int(input('Masukkan ukuran matriks: '))\n",
        "\n",
        "# Making numpy array of n x n+1 size and initializing\n",
        "# to zero for storing augmented matrix\n",
        "a = np.zeros((n,n+1))\n",
        "\n",
        "# Making numpy array of n size and initializing\n",
        "# to zero for storing solution vector\n",
        "x = np.zeros(n)\n",
        "\n",
        "# Menginput matriks\n",
        "print('Tekan enter untuk memasukkan matriks dari persamaan linear:')\n",
        "for i in range(n):\n",
        "    for j in range(n+1):\n",
        "        a[i][j] = float(input( 'a['+str(i)+']['+ str(j)+']='))\n",
        "\n",
        "# Eliminasi gauss\n",
        "for i in range(n):\n",
        "    # Mencari baris dengan nilai maksimum di kolom i\n",
        "    max_row = np.argmax(np.abs(a[i:n, i])) + i\n",
        "    # Tukar baris saat nilai maksimum tidak di baris saat ini\n",
        "    if max_row != i:\n",
        "        a[[i, max_row]] = a[[max_row, i]]\n",
        "\n",
        "    if a[i][i] == 0.0:\n",
        "        sys.exit('Divide by zero detected!')\n",
        "\n",
        "    for j in range(i + 1, n):\n",
        "        ratio = a[j][i] / a[i][i]\n",
        "        for k in range(n + 1):\n",
        "            a[j][k] -= ratio * a[i][k]\n",
        "\n",
        "# Menghitung solusi\n",
        "x[n-1] = a[n-1][n]/a[n-1][n-1]\n",
        "for i in range(n-2,-1,-1):\n",
        "    x[i] = a[i][n]\n",
        "    for j in range(i+1,n):\n",
        "        x[i] = x[i] - a[i][j]*x[j]\n",
        "    x[i] = x[i]/a[i][i]\n",
        "\n",
        "# Print hasil\n",
        "print('\\nAkar dari persamaan linear diatas dengan metode Gauss, adalah : ')\n",
        "for i in range(n):\n",
        "    print('X%d = %0.2f' %(i+1,x[i]), end = '\\t')"
      ],
      "metadata": {
        "colab": {
          "base_uri": "https://localhost:8080/"
        },
        "id": "E--HVI7vO0eI",
        "outputId": "72085dcf-d699-4678-e79d-1049d89e5618"
      },
      "execution_count": null,
      "outputs": [
        {
          "output_type": "stream",
          "name": "stdout",
          "text": [
            "Masukkan ukuran matriks: 3\n",
            "Tekan enter untuk memasukkan matriks dari persamaan linear:\n",
            "a[0][0]=20\n",
            "a[0][1]=-2\n",
            "a[0][2]=24\n",
            "a[0][3]=250\n",
            "a[1][0]=15\n",
            "a[1][1]=-3\n",
            "a[1][2]=12\n",
            "a[1][3]=350\n",
            "a[2][0]=10\n",
            "a[2][1]=-4\n",
            "a[2][2]=5\n",
            "a[2][3]=220\n",
            "\n",
            "Akar dari persamaan linear diatas dengan metode Gauss, adalah : \n",
            "X1 = 75.27\tX2 = 75.67\tX3 = -46.00\t"
          ]
        }
      ]
    }
  ]
}